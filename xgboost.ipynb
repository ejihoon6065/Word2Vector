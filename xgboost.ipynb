{
  "nbformat": 4,
  "nbformat_minor": 0,
  "metadata": {
    "colab": {
      "name": "xgboost",
      "provenance": [],
      "toc_visible": true,
      "mount_file_id": "1WpuIUKifYOvr5SgPF0VvO_ePpDSZMxXB",
      "authorship_tag": "ABX9TyNU44CSmtUzMQ8diYahrE/s",
      "include_colab_link": true
    },
    "kernelspec": {
      "name": "python3",
      "display_name": "Python 3"
    },
    "accelerator": "GPU"
  },
  "cells": [
    {
      "cell_type": "markdown",
      "metadata": {
        "id": "view-in-github",
        "colab_type": "text"
      },
      "source": [
        "<a href=\"https://colab.research.google.com/github/ejihoon6065/-/blob/master/xgboost.ipynb\" target=\"_parent\"><img src=\"https://colab.research.google.com/assets/colab-badge.svg\" alt=\"Open In Colab\"/></a>"
      ]
    },
    {
      "cell_type": "code",
      "metadata": {
        "id": "ZREfxvY9LX5H",
        "colab_type": "code",
        "colab": {
          "base_uri": "https://localhost:8080/",
          "height": 34
        },
        "outputId": "0bcd3a57-5a8c-4c62-9dc1-71b69945039b"
      },
      "source": [
        "from google.colab import drive\n",
        "drive.mount('/content/drive/')"
      ],
      "execution_count": 36,
      "outputs": [
        {
          "output_type": "stream",
          "text": [
            "Drive already mounted at /content/drive/; to attempt to forcibly remount, call drive.mount(\"/content/drive/\", force_remount=True).\n"
          ],
          "name": "stdout"
        }
      ]
    },
    {
      "cell_type": "code",
      "metadata": {
        "id": "OzB-OjrWKdnT",
        "colab_type": "code",
        "colab": {}
      },
      "source": [
        "import pandas as pd"
      ],
      "execution_count": 37,
      "outputs": []
    },
    {
      "cell_type": "code",
      "metadata": {
        "id": "EWhXjbS2KdcN",
        "colab_type": "code",
        "colab": {}
      },
      "source": [
        "train = pd.read_csv('/content/drive/My Drive/santander-train.csv')\n",
        "test = pd.read_csv('/content/drive/My Drive/santander-test.csv')"
      ],
      "execution_count": 38,
      "outputs": []
    },
    {
      "cell_type": "code",
      "metadata": {
        "id": "q3IMYGpWMfU1",
        "colab_type": "code",
        "colab": {
          "base_uri": "https://localhost:8080/",
          "height": 34
        },
        "outputId": "c2439735-1302-4b95-ca07-0469f197af47"
      },
      "source": [
        "train.shape"
      ],
      "execution_count": 39,
      "outputs": [
        {
          "output_type": "execute_result",
          "data": {
            "text/plain": [
              "(76020, 371)"
            ]
          },
          "metadata": {
            "tags": []
          },
          "execution_count": 39
        }
      ]
    },
    {
      "cell_type": "code",
      "metadata": {
        "id": "voQD1U79MfmC",
        "colab_type": "code",
        "colab": {
          "base_uri": "https://localhost:8080/",
          "height": 34
        },
        "outputId": "80e6f76d-7268-440d-a0fe-bb267933b4b4"
      },
      "source": [
        "test.shape"
      ],
      "execution_count": 40,
      "outputs": [
        {
          "output_type": "execute_result",
          "data": {
            "text/plain": [
              "(75818, 370)"
            ]
          },
          "metadata": {
            "tags": []
          },
          "execution_count": 40
        }
      ]
    },
    {
      "cell_type": "code",
      "metadata": {
        "id": "X-fmOwuzMmjS",
        "colab_type": "code",
        "colab": {
          "base_uri": "https://localhost:8080/",
          "height": 193
        },
        "outputId": "6f471935-7b9a-4233-ea3a-ec8d99ca7b8f"
      },
      "source": [
        "train.columns"
      ],
      "execution_count": 41,
      "outputs": [
        {
          "output_type": "execute_result",
          "data": {
            "text/plain": [
              "Index(['ID', 'var3', 'var15', 'imp_ent_var16_ult1', 'imp_op_var39_comer_ult1',\n",
              "       'imp_op_var39_comer_ult3', 'imp_op_var40_comer_ult1',\n",
              "       'imp_op_var40_comer_ult3', 'imp_op_var40_efect_ult1',\n",
              "       'imp_op_var40_efect_ult3',\n",
              "       ...\n",
              "       'saldo_medio_var33_hace2', 'saldo_medio_var33_hace3',\n",
              "       'saldo_medio_var33_ult1', 'saldo_medio_var33_ult3',\n",
              "       'saldo_medio_var44_hace2', 'saldo_medio_var44_hace3',\n",
              "       'saldo_medio_var44_ult1', 'saldo_medio_var44_ult3', 'var38', 'TARGET'],\n",
              "      dtype='object', length=371)"
            ]
          },
          "metadata": {
            "tags": []
          },
          "execution_count": 41
        }
      ]
    },
    {
      "cell_type": "code",
      "metadata": {
        "id": "KUwcV6l0MoT1",
        "colab_type": "code",
        "colab": {
          "base_uri": "https://localhost:8080/",
          "height": 210
        },
        "outputId": "e9c27d5e-b4e8-413e-cb19-9ba2ffe74458"
      },
      "source": [
        "test.columns"
      ],
      "execution_count": 42,
      "outputs": [
        {
          "output_type": "execute_result",
          "data": {
            "text/plain": [
              "Index(['ID', 'var3', 'var15', 'imp_ent_var16_ult1', 'imp_op_var39_comer_ult1',\n",
              "       'imp_op_var39_comer_ult3', 'imp_op_var40_comer_ult1',\n",
              "       'imp_op_var40_comer_ult3', 'imp_op_var40_efect_ult1',\n",
              "       'imp_op_var40_efect_ult3',\n",
              "       ...\n",
              "       'saldo_medio_var29_ult3', 'saldo_medio_var33_hace2',\n",
              "       'saldo_medio_var33_hace3', 'saldo_medio_var33_ult1',\n",
              "       'saldo_medio_var33_ult3', 'saldo_medio_var44_hace2',\n",
              "       'saldo_medio_var44_hace3', 'saldo_medio_var44_ult1',\n",
              "       'saldo_medio_var44_ult3', 'var38'],\n",
              "      dtype='object', length=370)"
            ]
          },
          "metadata": {
            "tags": []
          },
          "execution_count": 42
        }
      ]
    },
    {
      "cell_type": "code",
      "metadata": {
        "id": "u6UuLntBMqXY",
        "colab_type": "code",
        "colab": {}
      },
      "source": [
        "train.index = train.ID"
      ],
      "execution_count": 43,
      "outputs": []
    },
    {
      "cell_type": "code",
      "metadata": {
        "id": "thXwiY3OMqIs",
        "colab_type": "code",
        "colab": {}
      },
      "source": [
        "test.index = test.ID"
      ],
      "execution_count": 44,
      "outputs": []
    },
    {
      "cell_type": "code",
      "metadata": {
        "id": "elwFNVgMMu3t",
        "colab_type": "code",
        "colab": {}
      },
      "source": [
        "train.drop('ID', axis=1, inplace = True)\n",
        "test.drop('ID', axis=1, inplace = True)"
      ],
      "execution_count": 45,
      "outputs": []
    },
    {
      "cell_type": "code",
      "metadata": {
        "id": "A79YNsIDMvEk",
        "colab_type": "code",
        "colab": {
          "base_uri": "https://localhost:8080/",
          "height": 34
        },
        "outputId": "272a81f0-7f44-4be0-cde0-cb4a7113bd78"
      },
      "source": [
        "y=train.TARGET\n",
        "train = train.iloc[:, :-1]\n",
        "train.shape\n",
        "test.shape"
      ],
      "execution_count": 46,
      "outputs": [
        {
          "output_type": "execute_result",
          "data": {
            "text/plain": [
              "(75818, 369)"
            ]
          },
          "metadata": {
            "tags": []
          },
          "execution_count": 46
        }
      ]
    },
    {
      "cell_type": "code",
      "metadata": {
        "id": "Tx6t8IpkNYTn",
        "colab_type": "code",
        "colab": {
          "base_uri": "https://localhost:8080/",
          "height": 70
        },
        "outputId": "e2088127-2089-4761-937a-80ad6126898b"
      },
      "source": [
        "y.value_counts()"
      ],
      "execution_count": 47,
      "outputs": [
        {
          "output_type": "execute_result",
          "data": {
            "text/plain": [
              "0    73012\n",
              "1     3008\n",
              "Name: TARGET, dtype: int64"
            ]
          },
          "metadata": {
            "tags": []
          },
          "execution_count": 47
        }
      ]
    },
    {
      "cell_type": "code",
      "metadata": {
        "id": "Rd0lMKOhNYiM",
        "colab_type": "code",
        "colab": {
          "base_uri": "https://localhost:8080/",
          "height": 34
        },
        "outputId": "e4fb877c-fc44-46f9-b4b5-ef6d71fc34de"
      },
      "source": [
        "unsatisfied_cnt = (y[y==1].count())\n",
        "total_cnt = y.count()\n",
        "print('unsatisfied 비율은 {0:2f}'.format((unsatisfied_cnt / total_cnt)))"
      ],
      "execution_count": 48,
      "outputs": [
        {
          "output_type": "stream",
          "text": [
            "unsatisfied 비율은 0.039569\n"
          ],
          "name": "stdout"
        }
      ]
    },
    {
      "cell_type": "code",
      "metadata": {
        "id": "zctG7UQlNY_d",
        "colab_type": "code",
        "colab": {}
      },
      "source": [
        "train.describe()\n",
        "train.replace(-999999,2, inplace = True)"
      ],
      "execution_count": 49,
      "outputs": []
    },
    {
      "cell_type": "code",
      "metadata": {
        "id": "lyKsjMwuKPAF",
        "colab_type": "code",
        "colab": {}
      },
      "source": [
        "from sklearn.model_selection import train_test_split"
      ],
      "execution_count": 50,
      "outputs": []
    },
    {
      "cell_type": "code",
      "metadata": {
        "id": "sTAKmR_JKO8G",
        "colab_type": "code",
        "colab": {}
      },
      "source": [
        "X_train, X_test, y_train, y_test = train_test_split(train, y, test_size = 0.2, random_state = 0)"
      ],
      "execution_count": 51,
      "outputs": []
    },
    {
      "cell_type": "code",
      "metadata": {
        "id": "HABVVtEQKOx9",
        "colab_type": "code",
        "colab": {}
      },
      "source": [
        "train_cnt = y_train.count()"
      ],
      "execution_count": 52,
      "outputs": []
    },
    {
      "cell_type": "code",
      "metadata": {
        "id": "fCqHs6M7KOee",
        "colab_type": "code",
        "colab": {}
      },
      "source": [
        "test_cnt = y_test.count()"
      ],
      "execution_count": 53,
      "outputs": []
    },
    {
      "cell_type": "code",
      "metadata": {
        "id": "FYZrhDVLN02j",
        "colab_type": "code",
        "colab": {
          "base_uri": "https://localhost:8080/",
          "height": 34
        },
        "outputId": "b53efdaf-c810-4615-97b4-f466ca5ea4e2"
      },
      "source": [
        "print('학습 세트 Shape:{0}, 테스트 세트 Shape:{1}'.format(X_train.shape, X_test.shape))"
      ],
      "execution_count": 54,
      "outputs": [
        {
          "output_type": "stream",
          "text": [
            "학습 세트 Shape:(60816, 369), 테스트 세트 Shape:(15204, 369)\n"
          ],
          "name": "stdout"
        }
      ]
    },
    {
      "cell_type": "code",
      "metadata": {
        "id": "t25jnpSrN0tP",
        "colab_type": "code",
        "colab": {
          "base_uri": "https://localhost:8080/",
          "height": 34
        },
        "outputId": "37101a8f-cfaa-4c35-f157-7e9e27edd04c"
      },
      "source": [
        "print('학습 세트 레이블 값 분포 비율')"
      ],
      "execution_count": 55,
      "outputs": [
        {
          "output_type": "stream",
          "text": [
            "학습 세트 레이블 값 분포 비율\n"
          ],
          "name": "stdout"
        }
      ]
    },
    {
      "cell_type": "code",
      "metadata": {
        "id": "ywaPp-lpN0gl",
        "colab_type": "code",
        "colab": {
          "base_uri": "https://localhost:8080/",
          "height": 70
        },
        "outputId": "e1491e7b-ced3-48ad-d823-5c8f9b775b2a"
      },
      "source": [
        "print(y_train.value_counts()/train_cnt)"
      ],
      "execution_count": 56,
      "outputs": [
        {
          "output_type": "stream",
          "text": [
            "0    0.960964\n",
            "1    0.039036\n",
            "Name: TARGET, dtype: float64\n"
          ],
          "name": "stdout"
        }
      ]
    },
    {
      "cell_type": "code",
      "metadata": {
        "id": "FeWxHlIbN0UJ",
        "colab_type": "code",
        "colab": {
          "base_uri": "https://localhost:8080/",
          "height": 52
        },
        "outputId": "8d45d363-1591-4fb0-f451-ab799ae12eae"
      },
      "source": [
        "print('\\n 테스트 세트 레이블 값 분포 비율')"
      ],
      "execution_count": 57,
      "outputs": [
        {
          "output_type": "stream",
          "text": [
            "\n",
            " 테스트 세트 레이블 값 분포 비율\n"
          ],
          "name": "stdout"
        }
      ]
    },
    {
      "cell_type": "code",
      "metadata": {
        "id": "1Ig4HCeLOWxM",
        "colab_type": "code",
        "colab": {
          "base_uri": "https://localhost:8080/",
          "height": 70
        },
        "outputId": "68263b05-7f6e-49a6-ed99-96863bcf0186"
      },
      "source": [
        "print(y_test.value_counts()/test_cnt)"
      ],
      "execution_count": 58,
      "outputs": [
        {
          "output_type": "stream",
          "text": [
            "0    0.9583\n",
            "1    0.0417\n",
            "Name: TARGET, dtype: float64\n"
          ],
          "name": "stdout"
        }
      ]
    },
    {
      "cell_type": "code",
      "metadata": {
        "id": "NyGACZhRJZYG",
        "colab_type": "code",
        "colab": {}
      },
      "source": [
        "from xgboost import XGBClassifier"
      ],
      "execution_count": 59,
      "outputs": []
    },
    {
      "cell_type": "code",
      "metadata": {
        "id": "RThbs120JhtM",
        "colab_type": "code",
        "colab": {}
      },
      "source": [
        "from sklearn.metrics import roc_auc_score \n",
        "import time"
      ],
      "execution_count": 60,
      "outputs": []
    },
    {
      "cell_type": "code",
      "metadata": {
        "id": "1kSbV0w9Jl7z",
        "colab_type": "code",
        "colab": {}
      },
      "source": [
        "xgb_clf = XGBClassifier(n_estimators=10, random_state=156)"
      ],
      "execution_count": 61,
      "outputs": []
    },
    {
      "cell_type": "code",
      "metadata": {
        "id": "fEW5M-tbJ7nQ",
        "colab_type": "code",
        "colab": {}
      },
      "source": [
        "startTime = time.time()"
      ],
      "execution_count": 62,
      "outputs": []
    },
    {
      "cell_type": "code",
      "metadata": {
        "id": "9Nr3Ma_GJ9b1",
        "colab_type": "code",
        "colab": {
          "base_uri": "https://localhost:8080/",
          "height": 369
        },
        "outputId": "36744c27-cdb6-41a6-d270-0d11482ab836"
      },
      "source": [
        "xgb_clf.fit(X_train, y_train, early_stopping_rounds=100, eval_metric='auc', eval_set=[(X_train, y_train), (X_test, y_test)])"
      ],
      "execution_count": 63,
      "outputs": [
        {
          "output_type": "stream",
          "text": [
            "[0]\tvalidation_0-auc:0.799928\tvalidation_1-auc:0.803548\n",
            "Multiple eval metrics have been passed: 'validation_1-auc' will be used for early stopping.\n",
            "\n",
            "Will train until validation_1-auc hasn't improved in 100 rounds.\n",
            "[1]\tvalidation_0-auc:0.802222\tvalidation_1-auc:0.805222\n",
            "[2]\tvalidation_0-auc:0.80819\tvalidation_1-auc:0.813162\n",
            "[3]\tvalidation_0-auc:0.8127\tvalidation_1-auc:0.813243\n",
            "[4]\tvalidation_0-auc:0.81648\tvalidation_1-auc:0.816979\n",
            "[5]\tvalidation_0-auc:0.816018\tvalidation_1-auc:0.816629\n",
            "[6]\tvalidation_0-auc:0.816474\tvalidation_1-auc:0.817776\n",
            "[7]\tvalidation_0-auc:0.818148\tvalidation_1-auc:0.818464\n",
            "[8]\tvalidation_0-auc:0.81806\tvalidation_1-auc:0.818295\n",
            "[9]\tvalidation_0-auc:0.817039\tvalidation_1-auc:0.818087\n"
          ],
          "name": "stdout"
        },
        {
          "output_type": "execute_result",
          "data": {
            "text/plain": [
              "XGBClassifier(base_score=0.5, booster='gbtree', colsample_bylevel=1,\n",
              "              colsample_bynode=1, colsample_bytree=1, gamma=0,\n",
              "              learning_rate=0.1, max_delta_step=0, max_depth=3,\n",
              "              min_child_weight=1, missing=None, n_estimators=10, n_jobs=1,\n",
              "              nthread=None, objective='binary:logistic', random_state=156,\n",
              "              reg_alpha=0, reg_lambda=1, scale_pos_weight=1, seed=None,\n",
              "              silent=None, subsample=1, verbosity=1)"
            ]
          },
          "metadata": {
            "tags": []
          },
          "execution_count": 63
        }
      ]
    },
    {
      "cell_type": "code",
      "metadata": {
        "id": "nPCI2zmKKHsn",
        "colab_type": "code",
        "colab": {
          "base_uri": "https://localhost:8080/",
          "height": 34
        },
        "outputId": "38759504-45a2-42ad-9643-04b3105e2dae"
      },
      "source": [
        "print('Spent', time.time() - startTime, 'sec')"
      ],
      "execution_count": 65,
      "outputs": [
        {
          "output_type": "stream",
          "text": [
            "Spent 30.557472467422485 sec\n"
          ],
          "name": "stdout"
        }
      ]
    },
    {
      "cell_type": "code",
      "metadata": {
        "id": "-f6klQ9hO2K3",
        "colab_type": "code",
        "colab": {}
      },
      "source": [
        "xgb_roc_score = roc_auc_score(y_test, xgb_clf.predict_proba(X_test)[:,1])"
      ],
      "execution_count": 66,
      "outputs": []
    },
    {
      "cell_type": "code",
      "metadata": {
        "id": "PtVxhhFGO_hr",
        "colab_type": "code",
        "colab": {
          "base_uri": "https://localhost:8080/",
          "height": 419
        },
        "outputId": "8b905a1d-9345-4a24-8fec-bb141fca2897"
      },
      "source": [
        "print('ROC AUC: {0:.4f}'.format(xgb_roc_score))\n",
        "pred_test = pd.DataFrame(test.index)\n",
        "pred_test"
      ],
      "execution_count": 68,
      "outputs": [
        {
          "output_type": "stream",
          "text": [
            "ROC AUC: 0.8185\n"
          ],
          "name": "stdout"
        },
        {
          "output_type": "execute_result",
          "data": {
            "text/html": [
              "<div>\n",
              "<style scoped>\n",
              "    .dataframe tbody tr th:only-of-type {\n",
              "        vertical-align: middle;\n",
              "    }\n",
              "\n",
              "    .dataframe tbody tr th {\n",
              "        vertical-align: top;\n",
              "    }\n",
              "\n",
              "    .dataframe thead th {\n",
              "        text-align: right;\n",
              "    }\n",
              "</style>\n",
              "<table border=\"1\" class=\"dataframe\">\n",
              "  <thead>\n",
              "    <tr style=\"text-align: right;\">\n",
              "      <th></th>\n",
              "      <th>ID</th>\n",
              "    </tr>\n",
              "  </thead>\n",
              "  <tbody>\n",
              "    <tr>\n",
              "      <th>0</th>\n",
              "      <td>2</td>\n",
              "    </tr>\n",
              "    <tr>\n",
              "      <th>1</th>\n",
              "      <td>5</td>\n",
              "    </tr>\n",
              "    <tr>\n",
              "      <th>2</th>\n",
              "      <td>6</td>\n",
              "    </tr>\n",
              "    <tr>\n",
              "      <th>3</th>\n",
              "      <td>7</td>\n",
              "    </tr>\n",
              "    <tr>\n",
              "      <th>4</th>\n",
              "      <td>9</td>\n",
              "    </tr>\n",
              "    <tr>\n",
              "      <th>...</th>\n",
              "      <td>...</td>\n",
              "    </tr>\n",
              "    <tr>\n",
              "      <th>75813</th>\n",
              "      <td>151831</td>\n",
              "    </tr>\n",
              "    <tr>\n",
              "      <th>75814</th>\n",
              "      <td>151832</td>\n",
              "    </tr>\n",
              "    <tr>\n",
              "      <th>75815</th>\n",
              "      <td>151833</td>\n",
              "    </tr>\n",
              "    <tr>\n",
              "      <th>75816</th>\n",
              "      <td>151834</td>\n",
              "    </tr>\n",
              "    <tr>\n",
              "      <th>75817</th>\n",
              "      <td>151837</td>\n",
              "    </tr>\n",
              "  </tbody>\n",
              "</table>\n",
              "<p>75818 rows × 1 columns</p>\n",
              "</div>"
            ],
            "text/plain": [
              "           ID\n",
              "0           2\n",
              "1           5\n",
              "2           6\n",
              "3           7\n",
              "4           9\n",
              "...       ...\n",
              "75813  151831\n",
              "75814  151832\n",
              "75815  151833\n",
              "75816  151834\n",
              "75817  151837\n",
              "\n",
              "[75818 rows x 1 columns]"
            ]
          },
          "metadata": {
            "tags": []
          },
          "execution_count": 68
        }
      ]
    },
    {
      "cell_type": "code",
      "metadata": {
        "id": "4ZQvZyzGPIn_",
        "colab_type": "code",
        "colab": {}
      },
      "source": [
        "submit = pd.DataFrame({'ID' : pred_test['ID'], 'TARGET': xgb_clf.predict_proba(test)[:,1]})"
      ],
      "execution_count": 69,
      "outputs": []
    },
    {
      "cell_type": "code",
      "metadata": {
        "id": "JDbaDYCGPbv7",
        "colab_type": "code",
        "colab": {}
      },
      "source": [
        "submit.to_csv('/content/drive/My Drive/santander-train.csv', index=False)"
      ],
      "execution_count": 75,
      "outputs": []
    }
  ]
}